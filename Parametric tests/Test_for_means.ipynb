{
 "cells": [
  {
   "cell_type": "markdown",
   "metadata": {},
   "source": [
    "# Student tests\n",
    "Assume, that data is distributed **normally**, need to check it before applying tests!"
   ]
  },
  {
   "cell_type": "markdown",
   "metadata": {},
   "source": [
    "### 1-sample test\n",
    "\n",
    "$H_0\\colon$ $\\hat{\\mu} = \\mu_0$.\n",
    "\n",
    "$H_1\\colon$ $\\hat{\\mu} \\neq \\mu_0.$\n",
    "\n",
    "**z-test**\n",
    "$$Z(X_n)=\\frac{\\overline{X}_n-\\mu_0}{\\sigma/\\sqrt{n}} \\sim N(0,1)$$\n",
    "\n",
    "**t-test**\n",
    "$$T(X_n)=\\frac{\\overline{X}_n-\\mu_0}{S/\\sqrt{n}} \\sim St(n-1),$$\n",
    "\n",
    "where $S$ - sample standard deviation"
   ]
  },
  {
   "cell_type": "code",
   "execution_count": 12,
   "metadata": {},
   "outputs": [],
   "source": [
    "import pandas as pd\n",
    "from scipy import stats\n",
    "from statsmodels.stats.weightstats import *\n",
    "\n",
    "data = pd.read_csv('data/ADHD.txt', sep = ' ', header = 0)\n",
    "data.columns = ['Placebo', 'Methylphenidate']"
   ]
  },
  {
   "cell_type": "code",
   "execution_count": 13,
   "metadata": {},
   "outputs": [
    {
     "data": {
      "image/png": "[encoded data removed]",
      "text/plain": [
       "<Figure size 432x288 with 2 Axes>"
      ]
     },
     "metadata": {
      "needs_background": "light"
     },
     "output_type": "display_data"
    }
   ],
   "source": [
    "data.hist();"
   ]
  },
  {
   "cell_type": "code",
   "execution_count": 14,
   "metadata": {},
   "outputs": [
    {
     "data": {
      "text/plain": [
       "Ttest_1sampResult(statistic=-4.438003341905128, pvalue=0.00018894293251080175)"
      ]
     },
     "execution_count": 14,
     "metadata": {},
     "output_type": "execute_result"
    }
   ],
   "source": [
    "mu_0 = 50\n",
    "\n",
    "stats.ttest_1samp(data.Placebo, mu_0)"
   ]
  },
  {
   "cell_type": "code",
   "execution_count": 15,
   "metadata": {},
   "outputs": [
    {
     "name": "stdout",
     "output_type": "stream",
     "text": [
      "95% confidence interval: [35.223273, 44.276727]\n"
     ]
    }
   ],
   "source": [
    "print(\"95%% confidence interval: [%f, %f]\" % zconfint(data.Placebo))"
   ]
  },
  {
   "cell_type": "markdown",
   "metadata": {},
   "source": [
    "### 1-sample test wo full samples\n",
    "\n",
    "$H_0\\colon$ $\\hat{\\mu} = \\mu_0$.\n",
    "\n",
    "$H_1\\colon$ $\\hat{\\mu} \\neq \\mu_0.$"
   ]
  },
  {
   "cell_type": "code",
   "execution_count": 22,
   "metadata": {},
   "outputs": [],
   "source": [
    "mu_0 = 525\n",
    "mu_exp = 541.4\n",
    "\n",
    "#std deviation\n",
    "std = 100\n",
    "N = 100\n",
    "\n",
    "## Calculate the statistics\n",
    "z = (mu_exp - mu_0)/(std / np.sqrt(N))"
   ]
  },
  {
   "cell_type": "code",
   "execution_count": 23,
   "metadata": {},
   "outputs": [],
   "source": [
    "def proportions_diff_z_test(z_stat, alternative = 'two-sided'):\n",
    "    if alternative not in ('two-sided', 'less', 'greater'):\n",
    "        raise ValueError(\"alternative not recognized\\n\"\n",
    "                         \"should be 'two-sided', 'less' or 'greater'\")\n",
    "    \n",
    "    if alternative == 'two-sided':\n",
    "        return 2 * (1 - stats.norm.cdf(np.abs(z_stat)))\n",
    "    \n",
    "    if alternative == 'less':\n",
    "        return stats.norm.cdf(z_stat)\n",
    "\n",
    "    if alternative == 'greater':\n",
    "        return 1 - stats.norm.cdf(z_stat)"
   ]
  },
  {
   "cell_type": "code",
   "execution_count": 24,
   "metadata": {},
   "outputs": [
    {
     "data": {
      "text/plain": [
       "0.10100516694820794"
      ]
     },
     "execution_count": 24,
     "metadata": {},
     "output_type": "execute_result"
    }
   ],
   "source": [
    "proportions_diff_z_test(z)"
   ]
  },
  {
   "cell_type": "markdown",
   "metadata": {},
   "source": [
    "### 2-sample test (independent samples)\n",
    "\n",
    "$H_0\\colon$ $\\mu_1 = \\mu_2$.\n",
    "\n",
    "$H_1\\colon$ $\\mu_1\\neq \\mu_2.$\n",
    "\n",
    "\n",
    "**z-test**\n",
    "$$Z(X_1^{n_1}, X_2^{n_2})=\\frac{\\overline{X}_1-\\overline{X}_2}{\\sqrt{\\frac{\\sigma_1^2}{n_1} + \\frac{\\sigma_2^2}{n_2}}} \\sim N(0,1),$$\n",
    "\n",
    "**t-test**\n",
    "$$T(X_1^{n_1}, X_2^{n_2})=\\frac{\\overline{X}_1-\\overline{X}_2}{\\sqrt{\\frac{S_1^2}{n_1} + \\frac{S_2^2}{n_2}}} \\approx \\sim St(\\nu),$$\n",
    "\n",
    "$$\\nu = \\frac{\\left(\\frac{S_1^2}{n_1} + \\frac{S_2^2}{n_2} \\right)^2}{ \\frac{S_1^4}{n_1^2(n_1-1)} + \\frac{S_2^4}{n_2^2(n_2-1)} }$$\n",
    "\n",
    "\n",
    "where $S_1, S_2$ - sample standard deviation for samples 1 and 2 relatively.\n",
    "\n",
    "*Note*: does not have an exact solution (Behrens–Fisher problem). Works when $n_1>n_2 = \\sigma_1 > \\sigma_2$."
   ]
  },
  {
   "cell_type": "code",
   "execution_count": 18,
   "metadata": {},
   "outputs": [
    {
     "data": {
      "text/plain": [
       "Ttest_indResult(statistic=-1.4521635018159091, pvalue=0.1532919977404709)"
      ]
     },
     "execution_count": 18,
     "metadata": {},
     "output_type": "execute_result"
    }
   ],
   "source": [
    "stats.ttest_ind(data.Placebo, data.Methylphenidate, equal_var = False)"
   ]
  },
  {
   "cell_type": "code",
   "execution_count": 20,
   "metadata": {},
   "outputs": [
    {
     "name": "stdout",
     "output_type": "stream",
     "text": [
      "95% confidence interval: [-1.915927, 11.832593]\n"
     ]
    }
   ],
   "source": [
    "cm = CompareMeans(DescrStatsW(data.Methylphenidate), DescrStatsW(data.Placebo))\n",
    "print(\"95%% confidence interval: [%f, %f]\" % cm.tconfint_diff(usevar='unequal'))"
   ]
  },
  {
   "cell_type": "markdown",
   "metadata": {},
   "source": [
    "### 2-sample test (dependent samples)\n",
    "\n",
    "$H_0\\colon$ $\\mu_1 = \\mu_2$.\n",
    "\n",
    "$H_1\\colon$ $\\mu_1\\neq \\mu_2.$\n",
    "\n",
    "**t-test**\n",
    "$$T(X_n)=\\frac{\\overline{X}_1-\\overline{X}_2}{S/\\sqrt{n}} \\sim St(n-1),$$\n",
    "\n",
    "$$S^2 = \\frac{1}{n-1}\\sum\\limits_{i=1}^{n}(D_i-\\overline{D})^2,$$\n",
    "$$D_i = (x_{1i} - x_{2i})$$"
   ]
  },
  {
   "cell_type": "code",
   "execution_count": 19,
   "metadata": {},
   "outputs": [
    {
     "data": {
      "text/plain": [
       "Ttest_relResult(statistic=3.2223624451230406, pvalue=0.003771488176381471)"
      ]
     },
     "execution_count": 19,
     "metadata": {},
     "output_type": "execute_result"
    }
   ],
   "source": [
    "stats.ttest_rel(data.Methylphenidate, data.Placebo)"
   ]
  },
  {
   "cell_type": "code",
   "execution_count": 21,
   "metadata": {},
   "outputs": [
    {
     "name": "stdout",
     "output_type": "stream",
     "text": [
      "95% confidence interval: [1.775236, 8.141431]\n"
     ]
    }
   ],
   "source": [
    "print(\"95%% confidence interval: [%f, %f]\" % DescrStatsW(data.Methylphenidate - data.Placebo).tconfint_mean())"
   ]
  },
  {
   "cell_type": "code",
   "execution_count": null,
   "metadata": {},
   "outputs": [],
   "source": []
  },
  {
   "cell_type": "code",
   "execution_count": null,
   "metadata": {},
   "outputs": [],
   "source": []
  }
 ],
 "metadata": {
  "kernelspec": {
   "display_name": "Python 3",
   "language": "python",
   "name": "python3"
  },
  "language_info": {
   "codemirror_mode": {
    "name": "ipython",
    "version": 3
   },
   "file_extension": ".py",
   "mimetype": "text/x-python",
   "name": "python",
   "nbconvert_exporter": "python",
   "pygments_lexer": "ipython3",
   "version": "3.7.6"
  }
 },
 "nbformat": 4,
 "nbformat_minor": 2
}
