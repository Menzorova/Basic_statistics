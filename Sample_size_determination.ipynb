{
 "cells": [
  {
   "cell_type": "markdown",
   "metadata": {},
   "source": [
    "### Confident intervals for mean:\n",
    "**z-interval:** $\\mu$ will be estimated by samples, $\\sigma^2$ is supposed to be known\n",
    "\n",
    " $$\\overline{X}_n \\pm z_{1-\\frac{\\alpha}{2}}\\sqrt{\\frac{D(x)}{n}}$$\n",
    "\n",
    "**t-interval:** $\\mu, \\sigma^2$ will be estimated by samples. Len $S_n$ is sample variance.\n",
    "\n",
    "$$\\overline{X}_n \\pm t_{1-\\frac{\\alpha}{2}} \\frac{S_n}{\\sqrt{n}} $$"
   ]
  },
  {
   "cell_type": "markdown",
   "metadata": {},
   "source": [
    "### Choose n for an interval of a given width:"
   ]
  },
  {
   "cell_type": "markdown",
   "metadata": {},
   "source": [
    "*z-interval:*\n",
    "    $$z_{1-\\frac{\\alpha}{2}} \\frac{S_n}{\\sqrt{n}} = \\delta \\to $$\n",
    "    $$n = \\left(\\frac{z_{1-\\frac{\\alpha}{2}}}{\\delta} \\right)^2D(x)$$"
   ]
  },
  {
   "cell_type": "code",
   "execution_count": 19,
   "metadata": {},
   "outputs": [],
   "source": [
    "from scipy import stats\n",
    "\n",
    "alpha = 0.05\n",
    "delta = 0.1\n",
    "std = 0.4\n",
    "\n",
    "n = (stats.norm.ppf(1 - alpha / 2) * std / delta) ** 2"
   ]
  },
  {
   "cell_type": "markdown",
   "metadata": {},
   "source": [
    "## Confident intervals for prportions:\n",
    "\n",
    "**Based on Norm distribution**\n",
    "$$\\hat{p}\\pm z_{1-\\frac{\\alpha}{2}} \\sqrt{\\frac{\\hat{p}\\left(1-\\hat{p}\\right)}{n}}$$\n",
    "\n",
    "**Willson confident interval**\n",
    "$$\\frac1{ 1 + \\frac{z^2}{n} } \\left( \\hat{p} + \\frac{z^2}{2n} \\pm z \\sqrt{ \\frac{ \\hat{p}\\left(1-\\hat{p}\\right)}{n} + \\frac{\n",
    "z^2}{4n^2} } \\right), \\;\\; z \\equiv z_{1-\\frac{\\alpha}{2}}$$ \n",
    "\n",
    "pros: good for small and unbalanced samples"
   ]
  },
  {
   "cell_type": "markdown",
   "metadata": {},
   "source": [
    "### Choose n for an interval of a given width:"
   ]
  },
  {
   "cell_type": "code",
   "execution_count": 9,
   "metadata": {},
   "outputs": [],
   "source": [
    "import numpy as np\n",
    "from statsmodels.stats.proportion import samplesize_confint_proportion\n",
    "\n",
    "random_sample = np.random.randint(2, size = 1000) \n",
    "n_samples = int(np.ceil(samplesize_confint_proportion(random_sample.mean(), 0.01)))"
   ]
  },
  {
   "cell_type": "code",
   "execution_count": 8,
   "metadata": {},
   "outputs": [
    {
     "name": "stdout",
     "output_type": "stream",
     "text": [
      "Required number of samples: 9603\n"
     ]
    }
   ],
   "source": [
    "print(f'Required number of samples: {n_samples}')"
   ]
  },
  {
   "cell_type": "code",
   "execution_count": null,
   "metadata": {},
   "outputs": [],
   "source": []
  }
 ],
 "metadata": {
  "kernelspec": {
   "display_name": "Python 3",
   "language": "python",
   "name": "python3"
  },
  "language_info": {
   "codemirror_mode": {
    "name": "ipython",
    "version": 3
   },
   "file_extension": ".py",
   "mimetype": "text/x-python",
   "name": "python",
   "nbconvert_exporter": "python",
   "pygments_lexer": "ipython3",
   "version": "3.7.6"
  }
 },
 "nbformat": 4,
 "nbformat_minor": 2
}
